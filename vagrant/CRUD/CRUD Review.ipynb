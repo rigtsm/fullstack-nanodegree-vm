{
 "cells": [
  {
   "cell_type": "markdown",
   "metadata": {},
   "source": [
    "# Operations with SQLAlchemy\n",
    "In this lesson, we performed all of our CRUD operations with SQLAlchemy on an SQLite database. Before we perform any operations, we must first import the necessary libraries, connect to our restaurantMenu.db, and create a session to interface with the database:"
   ]
  },
  {
   "cell_type": "markdown",
   "metadata": {},
   "source": [
    "        from sqlalchemy import create_engine\n",
    "        from sqlalchemy.orm import sessionmaker\n",
    "        from database_setup import Base, Restaurant, MenuItem\n",
    "\n",
    "        engine = create_engine('sqlite:///restaurantMenu.db')\n",
    "        Base.metadata.bind=engine\n",
    "        DBSession = sessionmaker(bind = engine)\n",
    "        session = DBSession()"
   ]
  },
  {
   "cell_type": "markdown",
   "metadata": {},
   "source": [
    "## CREATE\n",
    "\n",
    "We created a new Restaurant and called it Pizza Palace:\n",
    "    \n",
    "    myFirstRestaurant = Restaurant(name = \"Pizza Palace\")\n",
    "    session.add(myFirstRestaurant)\n",
    "    sesssion.commit()\n",
    "    \n",
    "We created a cheese pizza menu item and added it to the Pizza Palace Menu: \n",
    "\n",
    "    cheesepizza = menuItem(name=\"Cheese Pizza\", description = \"Made with all natural ingredients and fresh mozzarella\", course=\"Entree\", price=\"$8.99\", restaurant=myFirstRestaurant)\n",
    "    session.add(cheesepizza)\n",
    "    session.commit()"
   ]
  },
  {
   "cell_type": "markdown",
   "metadata": {},
   "source": [
    "## READ\n",
    "We read out information in our database using the query method in SQLAlchemy:\n",
    "    "
   ]
  },
  {
   "cell_type": "markdown",
   "metadata": {},
   "source": [
    "    firstResult = session.query(Restaurant).first()\n",
    "    firstResult.name\n",
    "\n",
    "    items = session.query(MenuItem).all()\n",
    "    for item in items:\n",
    "        print item.name"
   ]
  },
  {
   "cell_type": "markdown",
   "metadata": {},
   "source": [
    "## UPDATE\n",
    "In order to update and existing entry in our database, we must execute the following commands:\n",
    "\n",
    "- Find Entry\n",
    "\n",
    "- Reset value(s)\n",
    "\n",
    "- Add to session\n",
    "\n",
    "- Execute session.commit()\n",
    "\n",
    "We found the veggie burger that belonged to the Urban Burger restaurant by executing the following query:"
   ]
  },
  {
   "cell_type": "markdown",
   "metadata": {},
   "source": [
    "    veggieBurgers = session.query(MenuItem).filter_by(name= 'Veggie Burger')\n",
    "    for veggieBurger in veggieBurgers:\n",
    "        print veggieBurger.id\n",
    "        print veggieBurger.price\n",
    "        print veggieBurger.restaurant.name\n",
    "        print \"\\n\""
   ]
  },
  {
   "cell_type": "markdown",
   "metadata": {},
   "source": [
    "Then we updated the price of the veggie burger to $2.99:"
   ]
  },
  {
   "cell_type": "markdown",
   "metadata": {},
   "source": [
    "    UrbanVeggieBurger = session.query(MenuItem).filter_by(id=8).one()\n",
    "    UrbanVeggieBurger.price = '$2.99'\n",
    "    session.add(UrbanVeggieBurger)\n",
    "    session.commit() "
   ]
  },
  {
   "cell_type": "markdown",
   "metadata": {},
   "source": [
    "## DELETE\n",
    "To delete an item from our database we must follow the following steps:\n",
    "    \n",
    "- Find the entry\n",
    "- Session.delete(Entry)\n",
    "- Session.commit()\n",
    "\n",
    "We deleted spinach Ice Cream from our Menu Items database with the following operations:"
   ]
  },
  {
   "cell_type": "markdown",
   "metadata": {},
   "source": [
    "    spinach = session.query(MenuItem).filter_by(name = 'Spinach Ice Cream').one()\n",
    "    session.delete(spinach)\n",
    "    session.commit() "
   ]
  },
  {
   "cell_type": "code",
   "execution_count": null,
   "metadata": {},
   "outputs": [],
   "source": []
  },
  {
   "cell_type": "code",
   "execution_count": null,
   "metadata": {},
   "outputs": [],
   "source": []
  },
  {
   "cell_type": "code",
   "execution_count": null,
   "metadata": {},
   "outputs": [],
   "source": []
  },
  {
   "cell_type": "code",
   "execution_count": null,
   "metadata": {},
   "outputs": [],
   "source": []
  },
  {
   "cell_type": "code",
   "execution_count": null,
   "metadata": {},
   "outputs": [],
   "source": []
  },
  {
   "cell_type": "code",
   "execution_count": null,
   "metadata": {},
   "outputs": [],
   "source": []
  },
  {
   "cell_type": "code",
   "execution_count": null,
   "metadata": {},
   "outputs": [],
   "source": []
  },
  {
   "cell_type": "code",
   "execution_count": null,
   "metadata": {},
   "outputs": [],
   "source": []
  },
  {
   "cell_type": "code",
   "execution_count": null,
   "metadata": {},
   "outputs": [],
   "source": []
  },
  {
   "cell_type": "code",
   "execution_count": null,
   "metadata": {},
   "outputs": [],
   "source": []
  },
  {
   "cell_type": "code",
   "execution_count": null,
   "metadata": {},
   "outputs": [],
   "source": []
  },
  {
   "cell_type": "code",
   "execution_count": null,
   "metadata": {},
   "outputs": [],
   "source": []
  },
  {
   "cell_type": "code",
   "execution_count": null,
   "metadata": {},
   "outputs": [],
   "source": []
  },
  {
   "cell_type": "code",
   "execution_count": null,
   "metadata": {},
   "outputs": [],
   "source": []
  },
  {
   "cell_type": "code",
   "execution_count": null,
   "metadata": {},
   "outputs": [],
   "source": []
  },
  {
   "cell_type": "code",
   "execution_count": null,
   "metadata": {},
   "outputs": [],
   "source": []
  }
 ],
 "metadata": {
  "kernelspec": {
   "display_name": "Python 3",
   "language": "python",
   "name": "python3"
  },
  "language_info": {
   "codemirror_mode": {
    "name": "ipython",
    "version": 3
   },
   "file_extension": ".py",
   "mimetype": "text/x-python",
   "name": "python",
   "nbconvert_exporter": "python",
   "pygments_lexer": "ipython3",
   "version": "3.6.9"
  }
 },
 "nbformat": 4,
 "nbformat_minor": 4
}
