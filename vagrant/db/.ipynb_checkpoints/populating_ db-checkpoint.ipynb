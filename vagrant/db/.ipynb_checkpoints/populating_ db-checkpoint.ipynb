{
 "cells": [
  {
   "cell_type": "markdown",
   "metadata": {},
   "source": [
    "# [Populating and iterracting with the database using sqlAlchemy](https://classroom.udacity.com/courses/ud088/lessons/3621198668/concepts/36123887380923)"
   ]
  },
  {
   "cell_type": "code",
   "execution_count": 2,
   "metadata": {},
   "outputs": [],
   "source": [
    "from sqlalchemy import create_engine\n",
    "from sqlalchemy.orm import sessionmaker\n",
    "\n",
    "# import the classes created in the setup file\n",
    "from database_setup import Base, Restaurant, MenuItem"
   ]
  },
  {
   "cell_type": "code",
   "execution_count": 3,
   "metadata": {},
   "outputs": [],
   "source": [
    "# with wich database to comunicate \n",
    "engine = create_engine('sqlite:///restaurantmenu.db')\n",
    "\n",
    "# bind the database to the engine class\n",
    "Base.metadata.bind = engine\n",
    "\n",
    "# Create a session maker object. Establish a link of communication\n",
    "# between our code executions and the engine\n",
    "DBSession = sessionmaker(bind = engine)\n",
    "\n",
    "session = DBSession()"
   ]
  },
  {
   "cell_type": "markdown",
   "metadata": {},
   "source": [
    "## Creating a restorant table is equal at creating an object"
   ]
  },
  {
   "cell_type": "code",
   "execution_count": null,
   "metadata": {},
   "outputs": [],
   "source": [
    "# Creating a restorant table is equal at creating an object\n",
    "myFirstRestaurant = Restaurant(name = \"Pizza Palace2\")\n",
    "# to persist it in the db i need to perform\n",
    "session.add(myFirstRestaurant) # not it is in the \"stagin zone\"\n",
    "session.commit() # now it is stored at my db"
   ]
  },
  {
   "cell_type": "code",
   "execution_count": 7,
   "metadata": {},
   "outputs": [
    {
     "name": "stdout",
     "output_type": "stream",
     "text": [
      "[<database_setup.Restaurant object at 0x7f195aafda20>, <database_setup.Restaurant object at 0x7f195aafda90>, <database_setup.Restaurant object at 0x7f195aafdb00>, <database_setup.Restaurant object at 0x7f195aafdba8>, <database_setup.Restaurant object at 0x7f195aafdc50>, <database_setup.Restaurant object at 0x7f195aafdcf8>]\n"
     ]
    }
   ],
   "source": [
    "# checking if the commit worked. Applying a query\n",
    "print(session.query(Restaurant).all())"
   ]
  },
  {
   "cell_type": "code",
   "execution_count": null,
   "metadata": {},
   "outputs": [],
   "source": []
  },
  {
   "cell_type": "code",
   "execution_count": null,
   "metadata": {},
   "outputs": [],
   "source": []
  },
  {
   "cell_type": "code",
   "execution_count": null,
   "metadata": {},
   "outputs": [],
   "source": []
  }
 ],
 "metadata": {
  "kernelspec": {
   "display_name": "Python 3",
   "language": "python",
   "name": "python3"
  },
  "language_info": {
   "codemirror_mode": {
    "name": "ipython",
    "version": 3
   },
   "file_extension": ".py",
   "mimetype": "text/x-python",
   "name": "python",
   "nbconvert_exporter": "python",
   "pygments_lexer": "ipython3",
   "version": "3.6.9"
  }
 },
 "nbformat": 4,
 "nbformat_minor": 4
}
