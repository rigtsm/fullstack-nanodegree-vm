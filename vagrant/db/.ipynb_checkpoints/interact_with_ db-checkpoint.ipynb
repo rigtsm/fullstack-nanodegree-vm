{
 "cells": [
  {
   "cell_type": "markdown",
   "metadata": {},
   "source": [
    "# [Populating and iterracting with the database using sqlAlchemy](https://classroom.udacity.com/courses/ud088/lessons/3621198668/concepts/36123887380923)"
   ]
  },
  {
   "cell_type": "code",
   "execution_count": 9,
   "metadata": {},
   "outputs": [],
   "source": [
    "from sqlalchemy import create_engine\n",
    "from sqlalchemy.orm import sessionmaker\n",
    "\n",
    "# import the classes created in the setup file\n",
    "from database_setup import Base, Restaurant, MenuItem"
   ]
  },
  {
   "cell_type": "code",
   "execution_count": 10,
   "metadata": {},
   "outputs": [],
   "source": [
    "# with wich database to comunicate \n",
    "engine = create_engine('sqlite:///restaurantmenu.db')\n",
    "\n",
    "# bind the database to the engine class\n",
    "Base.metadata.bind = engine\n",
    "\n",
    "# Create a session maker object. Establish a link of communication\n",
    "# between our code executions and the engine\n",
    "DBSession = sessionmaker(bind = engine)\n",
    "\n",
    "session = DBSession()"
   ]
  },
  {
   "cell_type": "markdown",
   "metadata": {},
   "source": [
    "## Creating a restorant table is equal at creating an object"
   ]
  },
  {
   "cell_type": "code",
   "execution_count": 12,
   "metadata": {},
   "outputs": [],
   "source": [
    "# Creating a restorant table is equal at creating an object\n",
    "myFirstRestaurant = Restaurant(name = \"Pizza Palace\")\n",
    "# to persist it in the db i need to perform\n",
    "session.add(myFirstRestaurant) # not it is in the \"staging zone\"\n",
    "session.commit() # now it is stored at my db"
   ]
  },
  {
   "cell_type": "code",
   "execution_count": 13,
   "metadata": {},
   "outputs": [
    {
     "name": "stdout",
     "output_type": "stream",
     "text": [
      "[<database_setup.Restaurant object at 0x7f1959582cf8>, <database_setup.Restaurant object at 0x7f1959582f28>, <database_setup.Restaurant object at 0x7f1958ed2940>, <database_setup.Restaurant object at 0x7f1958ed2d68>, <database_setup.Restaurant object at 0x7f1958ed2e80>, <database_setup.Restaurant object at 0x7f1958ed2f28>, <database_setup.Restaurant object at 0x7f1958ed2fd0>, <database_setup.Restaurant object at 0x7f1958b64630>]\n"
     ]
    }
   ],
   "source": [
    "# checking if the commit worked. Applying a query\n",
    "print(session.query(Restaurant).all())"
   ]
  },
  {
   "cell_type": "code",
   "execution_count": 14,
   "metadata": {},
   "outputs": [],
   "source": [
    "# adding MenuItem elements\n",
    "cheesepizza = MenuItem(\n",
    "\tname = \"Cheese Pizza\"\n",
    "\t, description = \"pizza description\"\n",
    "\t, course = \"Entree\"\n",
    "\t, price = \"$8.99\"\n",
    "\t, restaurant = myFirstRestaurant )\n",
    "\n",
    "session.add(cheesepizza)\n",
    "session.commit()"
   ]
  },
  {
   "cell_type": "code",
   "execution_count": 15,
   "metadata": {},
   "outputs": [
    {
     "name": "stdout",
     "output_type": "stream",
     "text": [
      "[<database_setup.MenuItem object at 0x7f1959582cc0>]\n"
     ]
    }
   ],
   "source": [
    "# checking if the commit worked. Applying a query\n",
    "print(session.query(MenuItem).all())"
   ]
  },
  {
   "cell_type": "markdown",
   "metadata": {},
   "source": [
    "## Reading from the database"
   ]
  },
  {
   "cell_type": "code",
   "execution_count": 20,
   "metadata": {},
   "outputs": [],
   "source": [
    "# single row references in the database\n",
    "firstResult = session.query(Restaurant).first()"
   ]
  },
  {
   "cell_type": "code",
   "execution_count": 22,
   "metadata": {},
   "outputs": [
    {
     "data": {
      "text/plain": [
       "'Pizza Palace'"
      ]
     },
     "execution_count": 22,
     "metadata": {},
     "output_type": "execute_result"
    }
   ],
   "source": [
    "firstResult.name"
   ]
  },
  {
   "cell_type": "markdown",
   "metadata": {},
   "source": [
    "## Query the data in the db"
   ]
  },
  {
   "cell_type": "code",
   "execution_count": 26,
   "metadata": {},
   "outputs": [
    {
     "name": "stdout",
     "output_type": "stream",
     "text": [
      "[<database_setup.MenuItem object at 0x7f1959582cc0>]\n"
     ]
    }
   ],
   "source": [
    "# get a list of all the items in the db\n",
    "items = session.query(MenuItem).all()\n",
    "rs = session.query(Restaurant).all()"
   ]
  },
  {
   "cell_type": "code",
   "execution_count": 28,
   "metadata": {},
   "outputs": [
    {
     "name": "stdout",
     "output_type": "stream",
     "text": [
      "<class 'list'>\n"
     ]
    }
   ],
   "source": [
    "print(type(rs))"
   ]
  },
  {
   "cell_type": "code",
   "execution_count": 33,
   "metadata": {},
   "outputs": [
    {
     "name": "stdout",
     "output_type": "stream",
     "text": [
      "Cheese Pizza\n",
      "\n",
      "Pizza Palace\n",
      "Pizza Palace2\n",
      "Pizza Palace2\n",
      "Pizza Palace2\n",
      "Pizza Palace2\n",
      "Pizza Palace2\n",
      "Pizza Marco\n",
      "Pizza Palace\n"
     ]
    }
   ],
   "source": [
    "for item in items:\n",
    "    print(item.name)\n",
    "    \n",
    "print()\n",
    "\n",
    "for r in rs:\n",
    "    print(r.name)"
   ]
  },
  {
   "cell_type": "code",
   "execution_count": null,
   "metadata": {},
   "outputs": [],
   "source": [
    "# Run the script for populating the db "
   ]
  },
  {
   "cell_type": "code",
   "execution_count": null,
   "metadata": {},
   "outputs": [],
   "source": []
  },
  {
   "cell_type": "code",
   "execution_count": null,
   "metadata": {},
   "outputs": [],
   "source": []
  },
  {
   "cell_type": "code",
   "execution_count": null,
   "metadata": {},
   "outputs": [],
   "source": []
  },
  {
   "cell_type": "code",
   "execution_count": null,
   "metadata": {},
   "outputs": [],
   "source": []
  },
  {
   "cell_type": "code",
   "execution_count": null,
   "metadata": {},
   "outputs": [],
   "source": []
  },
  {
   "cell_type": "code",
   "execution_count": null,
   "metadata": {},
   "outputs": [],
   "source": []
  },
  {
   "cell_type": "code",
   "execution_count": null,
   "metadata": {},
   "outputs": [],
   "source": []
  },
  {
   "cell_type": "code",
   "execution_count": null,
   "metadata": {},
   "outputs": [],
   "source": []
  }
 ],
 "metadata": {
  "kernelspec": {
   "display_name": "Python 3",
   "language": "python",
   "name": "python3"
  },
  "language_info": {
   "codemirror_mode": {
    "name": "ipython",
    "version": 3
   },
   "file_extension": ".py",
   "mimetype": "text/x-python",
   "name": "python",
   "nbconvert_exporter": "python",
   "pygments_lexer": "ipython3",
   "version": "3.6.9"
  }
 },
 "nbformat": 4,
 "nbformat_minor": 4
}
