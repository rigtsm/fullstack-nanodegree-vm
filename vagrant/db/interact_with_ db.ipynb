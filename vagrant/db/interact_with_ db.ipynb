{
 "cells": [
  {
   "cell_type": "markdown",
   "metadata": {},
   "source": [
    "# [Populating and iterracting with the database using sqlAlchemy](https://classroom.udacity.com/courses/ud088/lessons/3621198668/concepts/36123887380923)"
   ]
  },
  {
   "cell_type": "code",
   "execution_count": 54,
   "metadata": {},
   "outputs": [],
   "source": [
    "from sqlalchemy import create_engine\n",
    "from sqlalchemy.orm import sessionmaker\n",
    "\n",
    "# import the classes created in the setup file\n",
    "from database_setup import Base, Restaurant, MenuItem\n",
    "\n",
    "# with wich database to comunicate \n",
    "engine = create_engine('sqlite:///restaurantmenu.db')\n",
    "\n",
    "# bind the database to the engine class\n",
    "Base.metadata.bind = engine\n",
    "\n",
    "# Create a session maker object. Establish a link of communication\n",
    "# between our code executions and the engine\n",
    "DBSession = sessionmaker(bind = engine)\n",
    "\n",
    "session = DBSession()"
   ]
  },
  {
   "cell_type": "markdown",
   "metadata": {},
   "source": [
    "## Creating a restorant table is equal at creating an object"
   ]
  },
  {
   "cell_type": "code",
   "execution_count": 12,
   "metadata": {},
   "outputs": [],
   "source": [
    "# Creating a restorant table is equal at creating an object\n",
    "myFirstRestaurant = Restaurant(name = \"Pizza Palace\")\n",
    "# to persist it in the db i need to perform\n",
    "session.add(myFirstRestaurant) # not it is in the \"staging zone\"\n",
    "session.commit() # now it is stored at my db"
   ]
  },
  {
   "cell_type": "code",
   "execution_count": 55,
   "metadata": {},
   "outputs": [
    {
     "name": "stdout",
     "output_type": "stream",
     "text": [
      "[<database_setup.Restaurant object at 0x7fd789cf26d8>, <database_setup.Restaurant object at 0x7fd789cf2780>, <database_setup.Restaurant object at 0x7fd789cf26a0>, <database_setup.Restaurant object at 0x7fd789cf2cc0>, <database_setup.Restaurant object at 0x7fd789d1d2e8>, <database_setup.Restaurant object at 0x7fd789d1d8d0>, <database_setup.Restaurant object at 0x7fd789d1d160>, <database_setup.Restaurant object at 0x7fd789d1d748>, <database_setup.Restaurant object at 0x7fd789d1d080>, <database_setup.Restaurant object at 0x7fd789d1d6a0>, <database_setup.Restaurant object at 0x7fd789d1d400>, <database_setup.Restaurant object at 0x7fd789d1dc18>, <database_setup.Restaurant object at 0x7fd789d1dc50>, <database_setup.Restaurant object at 0x7fd789d1d6d8>, <database_setup.Restaurant object at 0x7fd789ce8748>, <database_setup.Restaurant object at 0x7fd789ce86a0>, <database_setup.Restaurant object at 0x7fd789ce89e8>]\n"
     ]
    }
   ],
   "source": [
    "# checking if the commit worked. Applying a query\n",
    "print(session.query(Restaurant).all())"
   ]
  },
  {
   "cell_type": "code",
   "execution_count": 14,
   "metadata": {},
   "outputs": [],
   "source": [
    "# adding MenuItem elements\n",
    "cheesepizza = MenuItem(\n",
    "\tname = \"Cheese Pizza\"\n",
    "\t, description = \"pizza description\"\n",
    "\t, course = \"Entree\"\n",
    "\t, price = \"$8.99\"\n",
    "\t, restaurant = myFirstRestaurant )\n",
    "\n",
    "session.add(cheesepizza)\n",
    "session.commit()"
   ]
  },
  {
   "cell_type": "code",
   "execution_count": 15,
   "metadata": {},
   "outputs": [
    {
     "name": "stdout",
     "output_type": "stream",
     "text": [
      "[<database_setup.MenuItem object at 0x7f1959582cc0>]\n"
     ]
    }
   ],
   "source": [
    "# checking if the commit worked. Applying a query\n",
    "print(session.query(MenuItem).all())"
   ]
  },
  {
   "cell_type": "markdown",
   "metadata": {},
   "source": [
    "## Reading from the database"
   ]
  },
  {
   "cell_type": "code",
   "execution_count": 56,
   "metadata": {},
   "outputs": [],
   "source": [
    "# single row references in the database\n",
    "firstResult = session.query(Restaurant).first()"
   ]
  },
  {
   "cell_type": "code",
   "execution_count": 57,
   "metadata": {},
   "outputs": [
    {
     "data": {
      "text/plain": [
       "'Pizza Palace'"
      ]
     },
     "execution_count": 57,
     "metadata": {},
     "output_type": "execute_result"
    }
   ],
   "source": [
    "firstResult.name"
   ]
  },
  {
   "cell_type": "markdown",
   "metadata": {},
   "source": [
    "## Query the data in the db"
   ]
  },
  {
   "cell_type": "code",
   "execution_count": 8,
   "metadata": {},
   "outputs": [],
   "source": [
    "# get a list of all the items in the db\n",
    "items = session.query(MenuItem).all()\n",
    "rs = session.query(Restaurant).all()"
   ]
  },
  {
   "cell_type": "code",
   "execution_count": 9,
   "metadata": {},
   "outputs": [
    {
     "name": "stdout",
     "output_type": "stream",
     "text": [
      "<class 'list'>\n"
     ]
    }
   ],
   "source": [
    "print(type(rs))"
   ]
  },
  {
   "cell_type": "code",
   "execution_count": 11,
   "metadata": {},
   "outputs": [
    {
     "name": "stdout",
     "output_type": "stream",
     "text": [
      "\n"
     ]
    }
   ],
   "source": [
    "for item in items:\n",
    "    #print(item.name)\n",
    "    pass\n",
    "    \n",
    "print()\n",
    "\n",
    "for r in rs:\n",
    "    #print(r.name)\n",
    "    pass"
   ]
  },
  {
   "cell_type": "code",
   "execution_count": 4,
   "metadata": {},
   "outputs": [
    {
     "name": "stdout",
     "output_type": "stream",
     "text": [
      "added menu items!\r\n"
     ]
    }
   ],
   "source": [
    "# Run the script for populating the db with other data\n",
    "# !python3 populating_db.py"
   ]
  },
  {
   "cell_type": "markdown",
   "metadata": {},
   "source": [
    "## CRUD Update\n",
    "\n",
    "- Find the entry to update\n",
    "- Reset/update the values\n",
    "- Add to session\n",
    "- session.commit()"
   ]
  },
  {
   "cell_type": "code",
   "execution_count": 32,
   "metadata": {},
   "outputs": [
    {
     "name": "stdout",
     "output_type": "stream",
     "text": [
      "<class 'sqlalchemy.orm.query.Query'>\n"
     ]
    }
   ],
   "source": [
    "# update the VeggieBurgers\n",
    "vgBurgers = session.query(MenuItem).filter_by(name = 'Veggie Burger')\n",
    "print(type(vgBurgers))"
   ]
  },
  {
   "cell_type": "code",
   "execution_count": 33,
   "metadata": {},
   "outputs": [
    {
     "name": "stdout",
     "output_type": "stream",
     "text": [
      "2 $2.99 Urban Burger\n",
      "10 $5.99 Urban Burger\n",
      "21 $9.50 Panda Garden\n",
      "27 $6.80 Thyme for That Vegetarian Cuisine \n",
      "37 $7.00 Andala's\n",
      "43 $9.50 Auntie Ann's Diner' \n"
     ]
    }
   ],
   "source": [
    "for burger in vgBurgers:\n",
    "    #print(type(burger))\n",
    "    print(burger.id, burger.price, burger.restaurant.name)"
   ]
  },
  {
   "cell_type": "code",
   "execution_count": 25,
   "metadata": {},
   "outputs": [
    {
     "name": "stdout",
     "output_type": "stream",
     "text": [
      "<class 'database_setup.MenuItem'>\n",
      "$2.99\n"
     ]
    }
   ],
   "source": [
    "# .one() returns the object not a list of objects\n",
    "UrbanVaggieBurger = session.query(MenuItem).filter_by(id = 2).one()\n",
    "print(type(UrbanVaggieBurger))\n",
    "print(UrbanVaggieBurger.price)"
   ]
  },
  {
   "cell_type": "code",
   "execution_count": 24,
   "metadata": {},
   "outputs": [],
   "source": [
    "# Update the price of the Veggie Burger\n",
    "UrbanVaggieBurger.price = \"$2.99\"\n",
    "session.add(UrbanVaggieBurger)\n",
    "session.commit()"
   ]
  },
  {
   "cell_type": "markdown",
   "metadata": {},
   "source": [
    "## Update all the Veggi Burgers prices in the MenuItem\n",
    "get all the burgers and update their price tag"
   ]
  },
  {
   "cell_type": "code",
   "execution_count": 37,
   "metadata": {},
   "outputs": [],
   "source": [
    "# Edid all the Veggi Burgers prices in the MenuItem\n",
    "vgBurgers = session.query(MenuItem).filter_by(name = 'Veggie Burger')\n",
    "\n",
    "#print(type(vgBurgers))\n",
    "\n",
    "for burger in vgBurgers:\n",
    "    #print(type(burger))\n",
    "    #print(\"id:\", burger.id,\"price:\", burger.price,\"restaurant:\", burger.restaurant.name) \n",
    "    if burger.price != \"$2.99\":\n",
    "        burger.price = \"$2.99\"\n",
    "        session.add(burger)\n",
    "        session.commit()\n"
   ]
  },
  {
   "cell_type": "code",
   "execution_count": 38,
   "metadata": {},
   "outputs": [
    {
     "name": "stdout",
     "output_type": "stream",
     "text": [
      "id: 2 price: $2.99 restaurant: Urban Burger\n",
      "id: 10 price: $2.99 restaurant: Urban Burger\n",
      "id: 21 price: $2.99 restaurant: Panda Garden\n",
      "id: 27 price: $2.99 restaurant: Thyme for That Vegetarian Cuisine \n",
      "id: 37 price: $2.99 restaurant: Andala's\n",
      "id: 43 price: $2.99 restaurant: Auntie Ann's Diner' \n"
     ]
    }
   ],
   "source": [
    "for burger in vgBurgers:\n",
    "        print(\"id:\", burger.id,\"price:\", burger.price,\"restaurant:\", burger.restaurant.name) \n",
    "\n"
   ]
  },
  {
   "cell_type": "markdown",
   "metadata": {},
   "source": [
    "## Delete\n",
    "- Find the entry\n",
    "- session.delete on the item\n",
    "- session.commit"
   ]
  },
  {
   "cell_type": "code",
   "execution_count": 53,
   "metadata": {},
   "outputs": [
    {
     "name": "stdout",
     "output_type": "stream",
     "text": [
      " No entry found!!!\n"
     ]
    }
   ],
   "source": [
    "# Find\n",
    "try:\n",
    "    spinach = session.query(MenuItem).filter_by(name = 'Spinach Ice Cream').one()\n",
    "    print(spinach.restaurant.name)\n",
    "    \n",
    "except:\n",
    "    print(\" No entry found!!!\")"
   ]
  },
  {
   "cell_type": "code",
   "execution_count": 44,
   "metadata": {},
   "outputs": [],
   "source": [
    "# Delete and commit\n",
    "session.delete(spinach)\n",
    "session.commit()"
   ]
  },
  {
   "cell_type": "code",
   "execution_count": null,
   "metadata": {},
   "outputs": [],
   "source": []
  },
  {
   "cell_type": "code",
   "execution_count": null,
   "metadata": {},
   "outputs": [],
   "source": []
  },
  {
   "cell_type": "code",
   "execution_count": null,
   "metadata": {},
   "outputs": [],
   "source": []
  },
  {
   "cell_type": "code",
   "execution_count": null,
   "metadata": {},
   "outputs": [],
   "source": []
  },
  {
   "cell_type": "code",
   "execution_count": null,
   "metadata": {},
   "outputs": [],
   "source": []
  },
  {
   "cell_type": "code",
   "execution_count": null,
   "metadata": {},
   "outputs": [],
   "source": []
  },
  {
   "cell_type": "code",
   "execution_count": null,
   "metadata": {},
   "outputs": [],
   "source": []
  },
  {
   "cell_type": "code",
   "execution_count": null,
   "metadata": {},
   "outputs": [],
   "source": []
  },
  {
   "cell_type": "code",
   "execution_count": null,
   "metadata": {},
   "outputs": [],
   "source": []
  },
  {
   "cell_type": "code",
   "execution_count": null,
   "metadata": {},
   "outputs": [],
   "source": []
  }
 ],
 "metadata": {
  "kernelspec": {
   "display_name": "Python 3",
   "language": "python",
   "name": "python3"
  },
  "language_info": {
   "codemirror_mode": {
    "name": "ipython",
    "version": 3
   },
   "file_extension": ".py",
   "mimetype": "text/x-python",
   "name": "python",
   "nbconvert_exporter": "python",
   "pygments_lexer": "ipython3",
   "version": "3.6.9"
  }
 },
 "nbformat": 4,
 "nbformat_minor": 4
}
